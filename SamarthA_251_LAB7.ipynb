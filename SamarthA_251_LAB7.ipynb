{
  "nbformat": 4,
  "nbformat_minor": 0,
  "metadata": {
    "colab": {
      "provenance": [],
      "authorship_tag": "ABX9TyO5Y49Rg9hKfH2tw0vZb9xZ",
      "include_colab_link": true
    },
    "kernelspec": {
      "name": "python3",
      "display_name": "Python 3"
    },
    "language_info": {
      "name": "python"
    }
  },
  "cells": [
    {
      "cell_type": "markdown",
      "metadata": {
        "id": "view-in-github",
        "colab_type": "text"
      },
      "source": [
        "<a href=\"https://colab.research.google.com/github/SamarthA24/MCA/blob/main/SamarthA_251_LAB7.ipynb\" target=\"_parent\"><img src=\"https://colab.research.google.com/assets/colab-badge.svg\" alt=\"Open In Colab\"/></a>"
      ]
    },
    {
      "cell_type": "code",
      "execution_count": 7,
      "metadata": {
        "colab": {
          "base_uri": "https://localhost:8080/",
          "height": 0
        },
        "id": "y3NN9F0DgWRi",
        "outputId": "b5c5f9cb-de2a-409e-c4be-218605b60857"
      },
      "outputs": [
        {
          "output_type": "stream",
          "name": "stdout",
          "text": [
            "The matrix1 is:  [[8 1 5]\n",
            " [5 2 8]\n",
            " [4 4 8]]\n",
            "The matrix2 is:  [[4 6 8]\n",
            " [1 4 3]\n",
            " [6 2 2]]\n",
            "The dot product of matrix is: \n",
            " [[63 62 77]\n",
            " [70 54 62]\n",
            " [68 56 60]]\n",
            "The multiplication of matrix is: \n",
            " [[32  6 40]\n",
            " [ 5  8 24]\n",
            " [24  8 16]]\n",
            "The product of matrix is: \n",
            " 3\n"
          ]
        }
      ],
      "source": [
        "'''Create two 3×3 matrices using the random function in Numpy and perform the following operations.\n",
        "Product (prod)\n",
        "Multiplication (multiply)\n",
        "Dot Product (dot)\n",
        "'''\n",
        "import numpy as np\n",
        "import random\n",
        "matrix1 = np.random.randint(1,10,(3,3))\n",
        "matrix2 = np.random.randint(1, 10,(3,3))\n",
        "matrix3 = np.random.randint(2,5)\n",
        "print(\"The matrix1 is: \",matrix1)\n",
        "print(\"The matrix2 is: \",matrix2)\n",
        "result1 = np.dot(matrix1, matrix2)\n",
        "result2 = np.multiply(matrix1, matrix2)\n",
        "result3 = np.prod(matrix3)\n",
        "print(\"The dot product of matrix is: \\n\",result1)\n",
        "print(\"The multiplication of matrix is: \\n\",result2)\n",
        "print(\"The product of matrix is: \\n\",result3)"
      ]
    },
    {
      "cell_type": "code",
      "source": [
        "'''Perform the following set operations using the Numpy functions.\n",
        "Union\n",
        "Intersection\n",
        "Set difference\n",
        "XOR\n",
        "'''\n",
        "set1 = np.array([1,2,3,4,5,6])\n",
        "set2 = np.array([3,4,5,6,7,8])\n",
        "union_res = np.union1d(set1, set2)\n",
        "intersection_res = np.intersect1d(set1, set2)\n",
        "diff_res = np.setdiff1d(set1, set2)\n",
        "xor_res = np.setxor1d(set1, set2)\n",
        "print(\"The union of set is: \\n\",union_res)\n",
        "print(\"The intersection of set is: \\n\",intersection_res)\n",
        "print(\"the difference of the set is: \\n\",diff_res)\n",
        "print(\"the XOR operation of the set is: \\n\",xor_res)"
      ],
      "metadata": {
        "colab": {
          "base_uri": "https://localhost:8080/",
          "height": 0
        },
        "id": "mv_YBIzYgxjr",
        "outputId": "f2842679-b5f7-41c7-a4a0-3257989869f9"
      },
      "execution_count": 9,
      "outputs": [
        {
          "output_type": "stream",
          "name": "stdout",
          "text": [
            "The union of set is: \n",
            " [1 2 3 4 5 6 7 8]\n",
            "The intersection of set is: \n",
            " [3 4 5 6]\n",
            "the difference of the set is: \n",
            " [1 2]\n",
            "the XOR operation of the set is: \n",
            " [1 2 7 8]\n"
          ]
        }
      ]
    },
    {
      "cell_type": "code",
      "source": [
        "'''Create a 1D array using Random function and perform the following operations.\n",
        "Cumulative sum\n",
        "Cumulative Product\n",
        "Discrete difference (with n=3)\n",
        "Find the unique elements from the array\n",
        "'''\n",
        "\n",
        "a = np.random.randint(1,10,(7))\n",
        "print(a)\n",
        "print(\"The Cumulative Sum of Array is: \", np.cumsum(a))\n",
        "print(\"Cumulative Product is: \",np.cumprod(a))\n",
        "print(\"The Unique: \",np.unique(a))\n",
        "print(\"The Discrete Difference is: \", np.diff(a,n=3))\n"
      ],
      "metadata": {
        "colab": {
          "base_uri": "https://localhost:8080/",
          "height": 0
        },
        "id": "89_cASPpi4CI",
        "outputId": "165ff5a6-1a0c-4fc4-ff80-43a73fd544b4"
      },
      "execution_count": 19,
      "outputs": [
        {
          "output_type": "stream",
          "name": "stdout",
          "text": [
            "[9 7 5 5 8 5 2]\n",
            "The Cumulative Sum of Array is:  [ 9 16 21 26 34 39 41]\n",
            "Cumulative Product is:  [     9     63    315   1575  12600  63000 126000]\n",
            "The Unique:  [2 5 7 8 9]\n",
            "The Discrete Difference is:  [ 2  1 -9  6]\n"
          ]
        }
      ]
    },
    {
      "cell_type": "code",
      "source": [
        "''' Create two 1D array and perform the Addition using zip(), add() and user defined function (frompyfunc())'''\n",
        "\n",
        "arr = np.array([1, 2, 3, 4, 5])\n",
        "arr1 = np.array([6, 7, 8, 9, 10])\n",
        "\n",
        "result_zip = np.array([a + b for a, b in zip(arr, arr1)])\n",
        "\n",
        "result_np_add = np.add(arr, arr1)\n",
        "\n",
        "def custom_add(x, y):\n",
        "    return x + y\n",
        "\n",
        "ufunc_custom_add = np.frompyfunc(custom_add, 2, 1)\n",
        "result_custom_add = ufunc_custom_add(arr, arr1)\n",
        "print(\"Array 1:\", arr)\n",
        "print(\"Array 2:\", arr1)\n",
        "print(\"Addition using zip():\", result_zip)\n",
        "print(\"Addition using np.add():\", result_np_add)\n",
        "print(\"Addition using user-defined function:\", result_custom_add)"
      ],
      "metadata": {
        "colab": {
          "base_uri": "https://localhost:8080/",
          "height": 0
        },
        "id": "xT5XmJeRm48O",
        "outputId": "4a69f9aa-d9ea-494a-8697-10a3dad50306"
      },
      "execution_count": 20,
      "outputs": [
        {
          "output_type": "stream",
          "name": "stdout",
          "text": [
            "Array 1: [1 2 3 4 5]\n",
            "Array 2: [ 6  7  8  9 10]\n",
            "Addition using zip(): [ 7  9 11 13 15]\n",
            "Addition using np.add(): [ 7  9 11 13 15]\n",
            "Addition using user-defined function: [7 9 11 13 15]\n"
          ]
        }
      ]
    },
    {
      "cell_type": "code",
      "source": [
        "'''Find the LCM (Least Common Multiple) and GCD (Greatest Common Divisor) of an array of elements using reduce()'''\n",
        "\n",
        "from functools import reduce\n",
        "from math import gcd, lcm\n",
        "elements = [12, 18, 24, 36, 48]\n",
        "\n",
        "lcm_result = reduce(lambda x, y: lcm(x, y), elements)\n",
        "\n",
        "gcd_result = reduce(lambda x, y: gcd(x, y), elements)\n",
        "print(\"LCM (Least Common Multiple):\", lcm_result)\n",
        "print(\"GCD (Greatest Common Divisor):\", gcd_result)"
      ],
      "metadata": {
        "colab": {
          "base_uri": "https://localhost:8080/",
          "height": 0
        },
        "id": "AYxPREIpn6Qg",
        "outputId": "7ece2b74-ffaf-4af9-bc6b-c015431423cb"
      },
      "execution_count": 21,
      "outputs": [
        {
          "output_type": "stream",
          "name": "stdout",
          "text": [
            "LCM (Least Common Multiple): 144\n",
            "GCD (Greatest Common Divisor): 6\n"
          ]
        }
      ]
    }
  ]
}