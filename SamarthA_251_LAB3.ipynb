{
 "cells": [
  {
   "cell_type": "code",
   "execution_count": 21,
   "metadata": {},
   "outputs": [
    {
     "name": "stdout",
     "output_type": "stream",
     "text": [
      "{'name': 'Samarth', 'domain_name': 'HopsitalManagement', 'regno': 'System'}\n"
     ]
    }
   ],
   "source": [
    "'''Write a function in Python with a string such that it accepts a parameter- “stringsplit”. This encoded string will contain your name, domain name and register number. You can separate the values in the string by any number of underscores. [The string should not contain any other underscore symbols in your name, domain name and register number]. The function should return a Python dictionary with your name, domain name and register number._\n",
    "For example, if the input would be \" Aaron___Googleplaystore____2347201”. Then the function should return the output as follows:\n",
    "{ \"name\": \" Aaron \",\n",
    "\"Domain_name\": \" Googleplaystore \",\n",
    "\"Regno\": \"2347201\" }\n",
    "'''\n",
    "\n",
    "def string_split(stringsplit):\n",
    "  parts = stringsplit.split(\"___\")\n",
    "  dictionary = {\n",
    "      \"name\": parts[0],\n",
    "      \"domain_name\": parts[1],\n",
    "      \"regno\": parts[2],\n",
    "  }\n",
    "  return dictionary\n",
    "if __name__ == \"__main__\":\n",
    "  stringsplit = input(\"Enter your name, domain name and register number separated by underscores: \")\n",
    "  dictionary = string_split(stringsplit)\n",
    "  print(dictionary)\n"
   ]
  },
  {
   "cell_type": "code",
   "execution_count": null,
   "metadata": {},
   "outputs": [],
   "source": []
  }
 ],
 "metadata": {
  "kernelspec": {
   "display_name": "Python 3",
   "language": "python",
   "name": "python3"
  },
  "language_info": {
   "codemirror_mode": {
    "name": "ipython",
    "version": 3
   },
   "file_extension": ".py",
   "mimetype": "text/x-python",
   "name": "python",
   "nbconvert_exporter": "python",
   "pygments_lexer": "ipython3",
   "version": "3.11.1"
  },
  "orig_nbformat": 4
 },
 "nbformat": 4,
 "nbformat_minor": 2
}
